{
 "cells": [
  {
   "cell_type": "code",
   "execution_count": 28,
   "metadata": {},
   "outputs": [],
   "source": [
    "import pandas as pd\n",
    "import keras\n",
    "import tensorflow as tf\n",
    "import numpy as np\n",
    "import matplotlib.pyplot as plt\n",
    "import sklearn"
   ]
  },
  {
   "cell_type": "code",
   "execution_count": 29,
   "metadata": {},
   "outputs": [],
   "source": [
    "x=pd.read_csv(\"after.csv\").drop([\"Transported\"],axis=1)\n",
    "train=pd.read_csv(\"train.csv\")\n",
    "y=pd.read_csv(\"after.csv\")[\"Transported\"]\n",
    "y=pd.get_dummies(y,prefix=\"transported\")"
   ]
  },
  {
   "cell_type": "code",
   "execution_count": 30,
   "metadata": {},
   "outputs": [],
   "source": [
    "num_list=[\"Age\",'RoomService','FoodCourt','ShoppingMall','Spa','VRDeck','cabinnum']\n",
    "for i in num_list:\n",
    "    x[i] = x[i].astype('float32')"
   ]
  },
  {
   "cell_type": "code",
   "execution_count": 31,
   "metadata": {},
   "outputs": [],
   "source": [
    "x=np.array(x)\n",
    "y=np.array(y)"
   ]
  },
  {
   "cell_type": "code",
   "execution_count": 32,
   "metadata": {},
   "outputs": [],
   "source": [
    "train_data, train_targets=x,y"
   ]
  },
  {
   "cell_type": "code",
   "execution_count": 33,
   "metadata": {},
   "outputs": [],
   "source": [
    "from keras import models\n",
    "from keras import layers\n",
    "from keras import losses\n",
    "from keras import metrics\n",
    "\n",
    "def build_model():\n",
    "    model = models.Sequential()\n",
    "    model.add(layers.Dense(64, activation=\"relu\",input_shape=(train_data.shape[1],)))\n",
    "    model.add(layers.Dense(64, activation=\"relu\"))\n",
    "    model.add(layers.Dense(2,activation=\"softmax\"))\n",
    "\n",
    "    model.compile(optimizer='rmsprop',\n",
    "            loss=losses.mse,\n",
    "            metrics=[metrics.binary_accuracy])\n",
    "    return model"
   ]
  },
  {
   "cell_type": "code",
   "execution_count": 34,
   "metadata": {},
   "outputs": [
    {
     "name": "stdout",
     "output_type": "stream",
     "text": [
      "Epoch 1/50\n",
      "272/272 [==============================] - 3s 5ms/step - loss: 0.1512 - binary_accuracy: 0.7795\n",
      "Epoch 2/50\n",
      "272/272 [==============================] - 2s 6ms/step - loss: 0.1348 - binary_accuracy: 0.8024\n",
      "Epoch 3/50\n",
      "272/272 [==============================] - 1s 5ms/step - loss: 0.1316 - binary_accuracy: 0.8048\n",
      "Epoch 4/50\n",
      "272/272 [==============================] - 1s 5ms/step - loss: 0.1295 - binary_accuracy: 0.8074\n",
      "Epoch 5/50\n",
      "272/272 [==============================] - 1s 5ms/step - loss: 0.1281 - binary_accuracy: 0.8103\n",
      "Epoch 6/50\n",
      "272/272 [==============================] - 1s 5ms/step - loss: 0.1266 - binary_accuracy: 0.8131\n",
      "Epoch 7/50\n",
      "272/272 [==============================] - 1s 5ms/step - loss: 0.1246 - binary_accuracy: 0.8162\n",
      "Epoch 8/50\n",
      "272/272 [==============================] - 1s 5ms/step - loss: 0.1238 - binary_accuracy: 0.8156\n",
      "Epoch 9/50\n",
      "272/272 [==============================] - 1s 5ms/step - loss: 0.1229 - binary_accuracy: 0.8204\n",
      "Epoch 10/50\n",
      "272/272 [==============================] - 1s 5ms/step - loss: 0.1211 - binary_accuracy: 0.8232\n",
      "Epoch 11/50\n",
      "272/272 [==============================] - 1s 5ms/step - loss: 0.1207 - binary_accuracy: 0.8224\n",
      "Epoch 12/50\n",
      "272/272 [==============================] - 1s 5ms/step - loss: 0.1197 - binary_accuracy: 0.8240\n",
      "Epoch 13/50\n",
      "272/272 [==============================] - 1s 5ms/step - loss: 0.1181 - binary_accuracy: 0.8293\n",
      "Epoch 14/50\n",
      "272/272 [==============================] - 1s 5ms/step - loss: 0.1175 - binary_accuracy: 0.8289\n",
      "Epoch 15/50\n",
      "272/272 [==============================] - 1s 5ms/step - loss: 0.1168 - binary_accuracy: 0.8280\n",
      "Epoch 16/50\n",
      "272/272 [==============================] - 1s 5ms/step - loss: 0.1163 - binary_accuracy: 0.8299\n",
      "Epoch 17/50\n",
      "272/272 [==============================] - 1s 5ms/step - loss: 0.1151 - binary_accuracy: 0.8285\n",
      "Epoch 18/50\n",
      "272/272 [==============================] - 1s 5ms/step - loss: 0.1146 - binary_accuracy: 0.8319\n",
      "Epoch 19/50\n",
      "272/272 [==============================] - 1s 5ms/step - loss: 0.1139 - binary_accuracy: 0.8307\n",
      "Epoch 20/50\n",
      "272/272 [==============================] - 1s 5ms/step - loss: 0.1138 - binary_accuracy: 0.8314\n",
      "Epoch 21/50\n",
      "272/272 [==============================] - 1s 5ms/step - loss: 0.1129 - binary_accuracy: 0.8346\n",
      "Epoch 22/50\n",
      "272/272 [==============================] - 1s 5ms/step - loss: 0.1125 - binary_accuracy: 0.8352\n",
      "Epoch 23/50\n",
      "272/272 [==============================] - 1s 5ms/step - loss: 0.1116 - binary_accuracy: 0.8372\n",
      "Epoch 24/50\n",
      "272/272 [==============================] - 1s 5ms/step - loss: 0.1110 - binary_accuracy: 0.8393\n",
      "Epoch 25/50\n",
      "272/272 [==============================] - 1s 5ms/step - loss: 0.1110 - binary_accuracy: 0.8357\n",
      "Epoch 26/50\n",
      "272/272 [==============================] - 1s 5ms/step - loss: 0.1103 - binary_accuracy: 0.8403\n",
      "Epoch 27/50\n",
      "272/272 [==============================] - 1s 5ms/step - loss: 0.1100 - binary_accuracy: 0.8415\n",
      "Epoch 28/50\n",
      "272/272 [==============================] - 1s 5ms/step - loss: 0.1095 - binary_accuracy: 0.8408\n",
      "Epoch 29/50\n",
      "272/272 [==============================] - 1s 5ms/step - loss: 0.1093 - binary_accuracy: 0.8381\n",
      "Epoch 30/50\n",
      "272/272 [==============================] - 1s 5ms/step - loss: 0.1087 - binary_accuracy: 0.8407\n",
      "Epoch 31/50\n",
      "272/272 [==============================] - 1s 5ms/step - loss: 0.1080 - binary_accuracy: 0.8434\n",
      "Epoch 32/50\n",
      "272/272 [==============================] - 1s 5ms/step - loss: 0.1080 - binary_accuracy: 0.8459\n",
      "Epoch 33/50\n",
      "272/272 [==============================] - 1s 5ms/step - loss: 0.1072 - binary_accuracy: 0.8410\n",
      "Epoch 34/50\n",
      "272/272 [==============================] - 1s 5ms/step - loss: 0.1073 - binary_accuracy: 0.8455\n",
      "Epoch 35/50\n",
      "272/272 [==============================] - 1s 5ms/step - loss: 0.1065 - binary_accuracy: 0.8493\n",
      "Epoch 36/50\n",
      "272/272 [==============================] - 1s 5ms/step - loss: 0.1067 - binary_accuracy: 0.8445\n",
      "Epoch 37/50\n",
      "272/272 [==============================] - 1s 5ms/step - loss: 0.1060 - binary_accuracy: 0.8473\n",
      "Epoch 38/50\n",
      "272/272 [==============================] - 1s 5ms/step - loss: 0.1055 - binary_accuracy: 0.8462\n",
      "Epoch 39/50\n",
      "272/272 [==============================] - 1s 5ms/step - loss: 0.1057 - binary_accuracy: 0.8448\n",
      "Epoch 40/50\n",
      "272/272 [==============================] - 1s 5ms/step - loss: 0.1049 - binary_accuracy: 0.8499\n",
      "Epoch 41/50\n",
      "272/272 [==============================] - 1s 5ms/step - loss: 0.1041 - binary_accuracy: 0.8505\n",
      "Epoch 42/50\n",
      "272/272 [==============================] - 1s 5ms/step - loss: 0.1042 - binary_accuracy: 0.8502\n",
      "Epoch 43/50\n",
      "272/272 [==============================] - 1s 5ms/step - loss: 0.1035 - binary_accuracy: 0.8494\n",
      "Epoch 44/50\n",
      "272/272 [==============================] - 1s 5ms/step - loss: 0.1031 - binary_accuracy: 0.8514\n",
      "Epoch 45/50\n",
      "272/272 [==============================] - 1s 5ms/step - loss: 0.1034 - binary_accuracy: 0.8521\n",
      "Epoch 46/50\n",
      "272/272 [==============================] - 1s 5ms/step - loss: 0.1030 - binary_accuracy: 0.8513\n",
      "Epoch 47/50\n",
      "272/272 [==============================] - 1s 5ms/step - loss: 0.1023 - binary_accuracy: 0.8528\n",
      "Epoch 48/50\n",
      "272/272 [==============================] - 1s 5ms/step - loss: 0.1018 - binary_accuracy: 0.8536\n",
      "Epoch 49/50\n",
      "272/272 [==============================] - 1s 5ms/step - loss: 0.1011 - binary_accuracy: 0.8540\n",
      "Epoch 50/50\n",
      "272/272 [==============================] - 1s 5ms/step - loss: 0.1012 - binary_accuracy: 0.8557\n"
     ]
    }
   ],
   "source": [
    "model=build_model()\n",
    "history=model.fit(train_data,train_targets,epochs=50,batch_size=32)"
   ]
  },
  {
   "cell_type": "code",
   "execution_count": 35,
   "metadata": {},
   "outputs": [],
   "source": [
    "x2=pd.read_csv(\"after2.csv\").drop([\"Transported\"],axis=1)\n",
    "train=pd.read_csv(\"train.csv\")\n",
    "y2=pd.read_csv(\"after2.csv\")[\"Transported\"]\n",
    "y2=pd.get_dummies(y2,prefix=\"transported\")"
   ]
  },
  {
   "cell_type": "code",
   "execution_count": 36,
   "metadata": {},
   "outputs": [],
   "source": [
    "test=pd.read_csv(\"testafter.csv\")\n",
    "result=[]\n",
    "for i in model.predict(test):\n",
    "    if i[0]>=0.5:\n",
    "        result.append(False)\n",
    "    else:\n",
    "        result.append(True)\n",
    "PassengerId=pd.read_csv(\"test.csv\")[\"PassengerId\"]"
   ]
  },
  {
   "cell_type": "code",
   "execution_count": 37,
   "metadata": {},
   "outputs": [],
   "source": [
    "num_list=[\"Age\",'RoomService','FoodCourt','ShoppingMall','Spa','VRDeck','cabinnum']\n",
    "for i in num_list:\n",
    "    x2[i] = x2[i].astype('float32')"
   ]
  },
  {
   "cell_type": "code",
   "execution_count": 38,
   "metadata": {},
   "outputs": [],
   "source": [
    "x2=np.array(x2)\n",
    "y2=np.array(y2)"
   ]
  },
  {
   "cell_type": "code",
   "execution_count": 39,
   "metadata": {},
   "outputs": [],
   "source": [
    "train_data, train_targets=x2,y2"
   ]
  },
  {
   "cell_type": "code",
   "execution_count": 40,
   "metadata": {},
   "outputs": [
    {
     "name": "stdout",
     "output_type": "stream",
     "text": [
      "Epoch 1/30\n",
      "207/207 [==============================] - 1s 5ms/step - loss: 0.1003 - binary_accuracy: 0.8521\n",
      "Epoch 2/30\n",
      "207/207 [==============================] - 1s 5ms/step - loss: 0.0997 - binary_accuracy: 0.8542\n",
      "Epoch 3/30\n",
      "207/207 [==============================] - 1s 5ms/step - loss: 0.0994 - binary_accuracy: 0.8520\n",
      "Epoch 4/30\n",
      "207/207 [==============================] - 1s 5ms/step - loss: 0.0983 - binary_accuracy: 0.8579\n",
      "Epoch 5/30\n",
      "207/207 [==============================] - 1s 5ms/step - loss: 0.0991 - binary_accuracy: 0.8521\n",
      "Epoch 6/30\n",
      "207/207 [==============================] - 1s 5ms/step - loss: 0.0981 - binary_accuracy: 0.8573\n",
      "Epoch 7/30\n",
      "207/207 [==============================] - 1s 5ms/step - loss: 0.0975 - binary_accuracy: 0.8586\n",
      "Epoch 8/30\n",
      "207/207 [==============================] - 1s 5ms/step - loss: 0.0978 - binary_accuracy: 0.8559\n",
      "Epoch 9/30\n",
      "207/207 [==============================] - 1s 5ms/step - loss: 0.0966 - binary_accuracy: 0.8569\n",
      "Epoch 10/30\n",
      "207/207 [==============================] - 1s 5ms/step - loss: 0.0962 - binary_accuracy: 0.8607\n",
      "Epoch 11/30\n",
      "207/207 [==============================] - 1s 5ms/step - loss: 0.0964 - binary_accuracy: 0.8589\n",
      "Epoch 12/30\n",
      "207/207 [==============================] - 1s 5ms/step - loss: 0.0964 - binary_accuracy: 0.8594\n",
      "Epoch 13/30\n",
      "207/207 [==============================] - 1s 5ms/step - loss: 0.0957 - binary_accuracy: 0.8609\n",
      "Epoch 14/30\n",
      "207/207 [==============================] - 1s 5ms/step - loss: 0.0954 - binary_accuracy: 0.8610\n",
      "Epoch 15/30\n",
      "207/207 [==============================] - 1s 5ms/step - loss: 0.0948 - binary_accuracy: 0.8618\n",
      "Epoch 16/30\n",
      "207/207 [==============================] - 1s 5ms/step - loss: 0.0941 - binary_accuracy: 0.8672\n",
      "Epoch 17/30\n",
      "207/207 [==============================] - 1s 5ms/step - loss: 0.0940 - binary_accuracy: 0.8630\n",
      "Epoch 18/30\n",
      "207/207 [==============================] - 1s 5ms/step - loss: 0.0942 - binary_accuracy: 0.8598\n",
      "Epoch 19/30\n",
      "207/207 [==============================] - 1s 5ms/step - loss: 0.0938 - binary_accuracy: 0.8654\n",
      "Epoch 20/30\n",
      "207/207 [==============================] - 1s 5ms/step - loss: 0.0928 - binary_accuracy: 0.8659\n",
      "Epoch 21/30\n",
      "207/207 [==============================] - 1s 5ms/step - loss: 0.0930 - binary_accuracy: 0.8671\n",
      "Epoch 22/30\n",
      "207/207 [==============================] - 1s 5ms/step - loss: 0.0922 - binary_accuracy: 0.8692\n",
      "Epoch 23/30\n",
      "207/207 [==============================] - 1s 5ms/step - loss: 0.0925 - binary_accuracy: 0.8650\n",
      "Epoch 24/30\n",
      "207/207 [==============================] - 1s 5ms/step - loss: 0.0917 - binary_accuracy: 0.8683\n",
      "Epoch 25/30\n",
      "207/207 [==============================] - 1s 5ms/step - loss: 0.0923 - binary_accuracy: 0.8663\n",
      "Epoch 26/30\n",
      "207/207 [==============================] - 1s 5ms/step - loss: 0.0916 - binary_accuracy: 0.8691\n",
      "Epoch 27/30\n",
      "207/207 [==============================] - 1s 5ms/step - loss: 0.0911 - binary_accuracy: 0.8685\n",
      "Epoch 28/30\n",
      "207/207 [==============================] - 1s 5ms/step - loss: 0.0910 - binary_accuracy: 0.8660\n",
      "Epoch 29/30\n",
      "207/207 [==============================] - 1s 5ms/step - loss: 0.0908 - binary_accuracy: 0.8691\n",
      "Epoch 30/30\n",
      "207/207 [==============================] - 1s 5ms/step - loss: 0.0908 - binary_accuracy: 0.8669\n"
     ]
    },
    {
     "data": {
      "text/plain": [
       "<keras.callbacks.History at 0x1a782f40ac0>"
      ]
     },
     "execution_count": 40,
     "metadata": {},
     "output_type": "execute_result"
    }
   ],
   "source": [
    "model.fit(train_data,train_targets,epochs=30,batch_size=32)"
   ]
  },
  {
   "cell_type": "code",
   "execution_count": 41,
   "metadata": {},
   "outputs": [],
   "source": [
    "result=pd.DataFrame(result,columns=[\"Transported\"])\n",
    "final=pd.concat([PassengerId,result],axis=1)"
   ]
  },
  {
   "cell_type": "code",
   "execution_count": 42,
   "metadata": {},
   "outputs": [],
   "source": [
    "final.to_csv(\"final.csv\",index=0)"
   ]
  }
 ],
 "metadata": {
  "kernelspec": {
   "display_name": "Python 3.9.6 64-bit",
   "language": "python",
   "name": "python3"
  },
  "language_info": {
   "codemirror_mode": {
    "name": "ipython",
    "version": 3
   },
   "file_extension": ".py",
   "mimetype": "text/x-python",
   "name": "python",
   "nbconvert_exporter": "python",
   "pygments_lexer": "ipython3",
   "version": "3.9.6"
  },
  "orig_nbformat": 4,
  "vscode": {
   "interpreter": {
    "hash": "f7976576504ac6c456dadd405d7477574ca2a64265ee4724cfbc25daae5f6d94"
   }
  }
 },
 "nbformat": 4,
 "nbformat_minor": 2
}
