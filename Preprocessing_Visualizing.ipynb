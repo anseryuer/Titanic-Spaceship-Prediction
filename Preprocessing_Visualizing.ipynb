{
 "cells": [
  {
   "cell_type": "code",
   "execution_count": 55,
   "metadata": {},
   "outputs": [],
   "source": [
    "import pandas as pd\n",
    "import keras\n",
    "import tensorflow as tf\n",
    "import numpy as np\n",
    "import matplotlib.pyplot as plt\n",
    "from sklearn import preprocessing"
   ]
  },
  {
   "cell_type": "code",
   "execution_count": 56,
   "metadata": {},
   "outputs": [],
   "source": [
    "train=pd.read_csv(\"train.csv\")\n",
    "ytrain=train[\"Transported\"]\n",
    "xtrain=train.drop([\"Transported\",\"PassengerId\",\"Name\"],axis=1)\n",
    "\n",
    "test=pd.read_csv(\"test.csv\")\n",
    "xtest=test.drop([\"PassengerId\",\"Name\"],axis=1)"
   ]
  },
  {
   "cell_type": "code",
   "execution_count": 57,
   "metadata": {},
   "outputs": [
    {
     "name": "stdout",
     "output_type": "stream",
     "text": [
      "<class 'pandas.core.frame.DataFrame'>\n",
      "RangeIndex: 8693 entries, 0 to 8692\n",
      "Data columns (total 14 columns):\n",
      " #   Column        Non-Null Count  Dtype  \n",
      "---  ------        --------------  -----  \n",
      " 0   PassengerId   8693 non-null   object \n",
      " 1   HomePlanet    8492 non-null   object \n",
      " 2   CryoSleep     8476 non-null   object \n",
      " 3   Cabin         8494 non-null   object \n",
      " 4   Destination   8511 non-null   object \n",
      " 5   Age           8514 non-null   float64\n",
      " 6   VIP           8490 non-null   object \n",
      " 7   RoomService   8512 non-null   float64\n",
      " 8   FoodCourt     8510 non-null   float64\n",
      " 9   ShoppingMall  8485 non-null   float64\n",
      " 10  Spa           8510 non-null   float64\n",
      " 11  VRDeck        8505 non-null   float64\n",
      " 12  Name          8493 non-null   object \n",
      " 13  Transported   8693 non-null   bool   \n",
      "dtypes: bool(1), float64(6), object(7)\n",
      "memory usage: 891.5+ KB\n"
     ]
    }
   ],
   "source": [
    "train.info()"
   ]
  },
  {
   "cell_type": "code",
   "execution_count": 58,
   "metadata": {},
   "outputs": [],
   "source": [
    "category_list=[\"HomePlanet\",'Destination',\"Age\",\"VIP\",'cabindeck','cabinside']\n",
    "num_list=[\"Age\",'RoomService','FoodCourt','CryoSleep','ShoppingMall','Spa','VRDeck','cabinnum']"
   ]
  },
  {
   "cell_type": "code",
   "execution_count": 59,
   "metadata": {},
   "outputs": [],
   "source": [
    "def minus_mean(list1):\n",
    "    print(list1)\n",
    "    list1=pd.DataFrame(list1)\n",
    "    mean3=list1.mean(axis=0)\n",
    "    print(mean3)\n",
    "    list1-=mean3\n",
    "    std=list1.std(axis=0)\n",
    "    list1/=std\n",
    "    print(list1)\n",
    "    return list1"
   ]
  },
  {
   "cell_type": "code",
   "execution_count": 60,
   "metadata": {},
   "outputs": [],
   "source": [
    "def boolprocess(list2):\n",
    "    list3=[]\n",
    "    for i in range(list2.shape[0]):\n",
    "        bool1=list2[i]\n",
    "        if bool1==True:\n",
    "            list3.append(1)\n",
    "        elif bool1==False:\n",
    "            list3.append(0)\n",
    "        else:\n",
    "            list3.append(0.5)\n",
    "    return pd.DataFrame(list3)"
   ]
  },
  {
   "cell_type": "code",
   "execution_count": 61,
   "metadata": {},
   "outputs": [],
   "source": [
    "def fill(xtrain,key):\n",
    "    xtrain['isna']=0\n",
    "    mask=xtrain[key].isnull()  \n",
    "    xtrain.loc[mask,'isna']=1\n",
    "    xtrain[key].fillna(0,inplace=True)\n",
    "    return xtrain[key]"
   ]
  },
  {
   "cell_type": "code",
   "execution_count": 62,
   "metadata": {},
   "outputs": [],
   "source": [
    "def input_preprocess(input):\n",
    "    cabin=input[\"Cabin\"]\n",
    "    cabin1=[]\n",
    "    cabin2=[]\n",
    "    cabin2sum=0\n",
    "    cabin2num=0\n",
    "    cabin3=[]\n",
    "    output=pd.DataFrame([])\n",
    "    for i in range(cabin.shape[0]):\n",
    "        try:\n",
    "            cabin1.append(cabin[i][0])\n",
    "            cabin2.append(int(cabin[i][2:-2]))\n",
    "            cabin3.append(cabin[i][-1])\n",
    "            cabin2sum+=int(cabin[i][2:-2])\n",
    "            cabin2num+=1\n",
    "        except:\n",
    "            cabin1.append('F')\n",
    "            cabin2.append(600)\n",
    "            cabin3.append('S')\n",
    "    cabin1=pd.DataFrame(cabin1,columns=[\"cabindeck\"])\n",
    "    cabin2=pd.DataFrame(cabin2,columns=[\"cabinnum\"])\n",
    "    cabin3=pd.DataFrame(cabin3,columns=[\"cabinside\"])\n",
    "\n",
    "    #output=pd.concat([output,cabin1,cabin2,cabin3],axis=1)\n",
    "    input=pd.concat([input,cabin1,cabin2,cabin3],axis=1)\n",
    "\n",
    "    category_list=[\"HomePlanet\",'Destination','cabindeck','cabinside']\n",
    "    num_list=[\"Age\",'RoomService','FoodCourt','ShoppingMall','Spa','VRDeck','cabinnum']\n",
    "    bool_list=[\"CryoSleep\",\"VIP\"]\n",
    "\n",
    "    for i in bool_list+category_list:\n",
    "        output=pd.concat([output,pd.get_dummies(input[i],prefix=i)],axis=1)\n",
    "\n",
    "    for i in num_list:\n",
    "        output=pd.concat([output,pd.DataFrame(preprocessing.scale(input[i]),columns=[i])],axis=1)\n",
    "        output[i]=fill(output,i)\n",
    "    output=output.drop([\"isna\"],axis=1)\n",
    "    return output"
   ]
  },
  {
   "cell_type": "code",
   "execution_count": 63,
   "metadata": {},
   "outputs": [
    {
     "data": {
      "text/plain": [
       "'\\n    for k in num_list:\\n        mean1=xtrain[k].mean\\n        print(mean1)\\n        list1=xtrain[k]\\n        print(k)\\n        for i in range(list1.shape[0]):\\n            if pd.isnull(list1[i]):\\n                xtrain[k][i]=mean1\\n        xtrain[k]=minus_mean(xtrain[k])\\n'"
      ]
     },
     "execution_count": 63,
     "metadata": {},
     "output_type": "execute_result"
    }
   ],
   "source": [
    "'''\n",
    "    for k in num_list:\n",
    "        mean1=xtrain[k].mean\n",
    "        print(mean1)\n",
    "        list1=xtrain[k]\n",
    "        print(k)\n",
    "        for i in range(list1.shape[0]):\n",
    "            if pd.isnull(list1[i]):\n",
    "                xtrain[k][i]=mean1\n",
    "        xtrain[k]=minus_mean(xtrain[k])\n",
    "'''"
   ]
  },
  {
   "cell_type": "code",
   "execution_count": 64,
   "metadata": {},
   "outputs": [
    {
     "name": "stderr",
     "output_type": "stream",
     "text": [
      "C:\\Users\\yutia\\AppData\\Local\\Temp\\ipykernel_45768\\1517399558.py:5: SettingWithCopyWarning: \n",
      "A value is trying to be set on a copy of a slice from a DataFrame\n",
      "\n",
      "See the caveats in the documentation: https://pandas.pydata.org/pandas-docs/stable/user_guide/indexing.html#returning-a-view-versus-a-copy\n",
      "  ytrain[i]=0\n"
     ]
    }
   ],
   "source": [
    "for i in range(ytrain.shape[0]):\n",
    "    if  ytrain[i]:\n",
    "        ytrain[i]=1\n",
    "    else:\n",
    "        ytrain[i]=0"
   ]
  },
  {
   "cell_type": "code",
   "execution_count": 65,
   "metadata": {},
   "outputs": [],
   "source": [
    "xtrain=input_preprocess(xtrain)"
   ]
  },
  {
   "cell_type": "code",
   "execution_count": 66,
   "metadata": {},
   "outputs": [
    {
     "data": {
      "text/plain": [
       "Index(['CryoSleep_False', 'CryoSleep_True', 'VIP_False', 'VIP_True',\n",
       "       'HomePlanet_Earth', 'HomePlanet_Europa', 'HomePlanet_Mars',\n",
       "       'Destination_55 Cancri e', 'Destination_PSO J318.5-22',\n",
       "       'Destination_TRAPPIST-1e', 'cabindeck_A', 'cabindeck_B', 'cabindeck_C',\n",
       "       'cabindeck_D', 'cabindeck_E', 'cabindeck_F', 'cabindeck_G',\n",
       "       'cabindeck_T', 'cabinside_P', 'cabinside_S', 'Age', 'RoomService',\n",
       "       'FoodCourt', 'ShoppingMall', 'Spa', 'VRDeck', 'cabinnum'],\n",
       "      dtype='object')"
      ]
     },
     "execution_count": 66,
     "metadata": {},
     "output_type": "execute_result"
    }
   ],
   "source": [
    "xtrain.keys()"
   ]
  },
  {
   "cell_type": "code",
   "execution_count": 68,
   "metadata": {},
   "outputs": [],
   "source": [
    "data=pd.concat([xtrain,ytrain],axis=1)\n",
    "data.to_csv(\"after.csv\",index=0)"
   ]
  },
  {
   "cell_type": "code",
   "execution_count": 70,
   "metadata": {},
   "outputs": [],
   "source": [
    "input_preprocess(xtest).to_csv(\"testafter.csv\",index=0)"
   ]
  },
  {
   "cell_type": "code",
   "execution_count": null,
   "metadata": {},
   "outputs": [],
   "source": [
    "import seaborn as sns\n",
    "sns.pairplot(pd.concat([xtrain,ytrain],axis=1),hue=\"Transported\")"
   ]
  }
 ],
 "metadata": {
  "interpreter": {
   "hash": "865d8b2eb28e274047ba64063dfb6a2aabf0dfec4905d304d7a76618dae6fdd4"
  },
  "kernelspec": {
   "display_name": "Python 3.10.0 64-bit",
   "language": "python",
   "name": "python3"
  },
  "language_info": {
   "codemirror_mode": {
    "name": "ipython",
    "version": 3
   },
   "file_extension": ".py",
   "mimetype": "text/x-python",
   "name": "python",
   "nbconvert_exporter": "python",
   "pygments_lexer": "ipython3",
   "version": "3.10.0"
  },
  "orig_nbformat": 4,
  "vscode": {
   "interpreter": {
    "hash": "f7976576504ac6c456dadd405d7477574ca2a64265ee4724cfbc25daae5f6d94"
   }
  }
 },
 "nbformat": 4,
 "nbformat_minor": 2
}
